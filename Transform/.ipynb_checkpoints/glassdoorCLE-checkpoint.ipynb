{
 "cells": [
  {
   "cell_type": "code",
   "execution_count": null,
   "metadata": {},
   "outputs": [],
   "source": [
    "import pandas as pd\n"
   ]
  },
  {
   "cell_type": "code",
   "execution_count": null,
   "metadata": {},
   "outputs": [],
   "source": [
    "df = pd.read_excel('glassdoorCLE.xlsx')\n"
   ]
  },
  {
   "cell_type": "code",
   "execution_count": null,
   "metadata": {},
   "outputs": [],
   "source": [
    "# filter only three most relevant position\n",
    "\n",
    "df_Analyst = df[df['position'].str.contains('Data Analyst',case=False) ]\n",
    "df_Scientist = df[df['position'].str.contains('Data Scientist',case=False) ]\n",
    "df_Engineer = df[df['position'].str.contains('Data Engineer',case=False) ]\n",
    "\n",
    "frames = [df_Analyst, df_Scientist, df_Scientist]\n",
    "glassdoor_df = pd.concat(frames)\n",
    "\n",
    "\n"
   ]
  },
  {
   "cell_type": "code",
   "execution_count": null,
   "metadata": {},
   "outputs": [],
   "source": [
    "# new data frame with split value columns \n",
    "location_df = result[\"location\"].str.split(\",\", n = 1, expand = True) \n",
    "\n",
    "\n",
    "# add city\n",
    "glassdoor_df[\"City\"]= location_df[0] \n",
    "  \n",
    "# add state\n",
    "job_title_df[\"State\"]= location_df[1] \n",
    "  \n",
    "# Dropping old Name columns \n",
    "glassdoor_df.drop(columns =[\"location\"], inplace = True) "
   ]
  },
  {
   "cell_type": "code",
   "execution_count": null,
   "metadata": {},
   "outputs": [],
   "source": [
    "glassdoor_df.to_csv('C:/Users/indup/ETL-Project/Transform/glassdoorCLE.csv',sep='|',index=False)"
   ]
  }
 ],
 "metadata": {
  "kernelspec": {
   "display_name": "Python 3",
   "language": "python",
   "name": "python3"
  },
  "language_info": {
   "codemirror_mode": {
    "name": "ipython",
    "version": 3
   },
   "file_extension": ".py",
   "mimetype": "text/x-python",
   "name": "python",
   "nbconvert_exporter": "python",
   "pygments_lexer": "ipython3",
   "version": "3.7.3"
  }
 },
 "nbformat": 4,
 "nbformat_minor": 2
}

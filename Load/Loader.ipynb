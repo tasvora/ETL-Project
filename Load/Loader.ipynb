{
 "cells": [
  {
   "cell_type": "code",
   "execution_count": 1,
   "metadata": {},
   "outputs": [],
   "source": [
    "import os\n",
    "import glob\n",
    "import pandas as pd\n",
    "\n"
   ]
  },
  {
   "cell_type": "code",
   "execution_count": 2,
   "metadata": {},
   "outputs": [],
   "source": [
    "os.chdir(\"C:/Users/indup/ETL-Project/Load/Resources/Glassdoor\")\n",
    "\n",
    "#delete existing glassdoor.csv\n",
    "try:\n",
    "    os.remove(\"Glassdoor.csv\")\n",
    "except:\n",
    "    pass"
   ]
  },
  {
   "cell_type": "code",
   "execution_count": 3,
   "metadata": {},
   "outputs": [
    {
     "data": {
      "text/plain": [
       "['California_glassdoor.csv',\n",
       " 'Colorado_glassdoor.csv',\n",
       " 'Connecticut_glassdoor.csv',\n",
       " 'Delaware_glassdoor.csv',\n",
       " 'Idaho_glassdoor.csv',\n",
       " 'Illinois_glassdoor.csv',\n",
       " 'Indiana_glassdoor.csv',\n",
       " 'Iowa_glassdoor.csv',\n",
       " 'Kansas_glassdoor.csv',\n",
       " 'Kentucky_glassdoor.csv',\n",
       " 'Maine_glassdoor.csv',\n",
       " 'Maryland_glassdoor.csv',\n",
       " 'Massachusetts_glassdoor.csv',\n",
       " 'Michigan_glassdoor.csv',\n",
       " 'Minnesota_glassdoor.csv',\n",
       " 'Missouri_glassdoor.csv',\n",
       " 'Montana_glassdoor.csv',\n",
       " 'Nebraska_glassdoor.csv',\n",
       " 'Nevada_glassdoor.csv',\n",
       " 'New Hampshire_glassdoor.csv',\n",
       " 'New Jersey_glassdoor.csv',\n",
       " 'New York_glassdoor.csv',\n",
       " 'North Carolina_glassdoor.csv',\n",
       " 'North Dakota_glassdoor.csv',\n",
       " 'Ohio_glassdoor.csv',\n",
       " 'Oregon_glassdoor.csv',\n",
       " 'Pennsylvania_glassdoor.csv',\n",
       " 'Rhode Island_glassdoor.csv',\n",
       " 'South Dakota_glassdoor.csv',\n",
       " 'Utah_glassdoor.csv',\n",
       " 'Vermont_glassdoor.csv',\n",
       " 'Virginia_glassdoor.csv',\n",
       " 'Washington State_glassdoor.csv',\n",
       " 'Wisconsin_glassdoor.csv',\n",
       " 'Wyoming_glassdoor.csv']"
      ]
     },
     "execution_count": 3,
     "metadata": {},
     "output_type": "execute_result"
    }
   ],
   "source": [
    "extension = 'csv'\n",
    "pattern = f'*.{format(extension)}'\n",
    "all_filenames = [i for i in glob.iglob(pattern)]\n",
    "all_filenames"
   ]
  },
  {
   "cell_type": "code",
   "execution_count": 11,
   "metadata": {},
   "outputs": [],
   "source": [
    "#combine all files in the list\n",
    "combined_csv = pd.concat([pd.read_csv(f,sep='|').dropna() for f in all_filenames ],sort=False)\n",
    "\n",
    "combined_csv = combined_csv.drop(columns=['description'])\n",
    "\n",
    "#export to csv\n",
    "combined_csv.to_csv( \"Glassdoor.csv\", index=False)"
   ]
  }
 ],
 "metadata": {
  "kernelspec": {
   "display_name": "Python 3",
   "language": "python",
   "name": "python3"
  },
  "language_info": {
   "codemirror_mode": {
    "name": "ipython",
    "version": 3
   },
   "file_extension": ".py",
   "mimetype": "text/x-python",
   "name": "python",
   "nbconvert_exporter": "python",
   "pygments_lexer": "ipython3",
   "version": "3.7.5"
  }
 },
 "nbformat": 4,
 "nbformat_minor": 2
}

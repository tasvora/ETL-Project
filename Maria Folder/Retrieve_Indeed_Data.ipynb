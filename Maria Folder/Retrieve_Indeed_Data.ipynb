{
 "cells": [
  {
   "cell_type": "code",
   "execution_count": 1,
   "metadata": {},
   "outputs": [],
   "source": [
    "from selenium import webdriver\n",
    "from selenium.common.exceptions import NoSuchElementException\n",
    "from bs4 import BeautifulSoup\n",
    "import time\n",
    "import pandas as pd"
   ]
  },
  {
   "cell_type": "code",
   "execution_count": 2,
   "metadata": {},
   "outputs": [
    {
     "name": "stdout",
     "output_type": "stream",
     "text": [
      "https://www.indeed.com/jobs?q=Data+Analyst&l=California\n"
     ]
    }
   ],
   "source": [
    "browser = webdriver.Chrome('windows/chromedriver')\n",
    "#job_type = [\"Data+Scientist\"]#,\"Data+Engineer\",\"Data+Analyst\"]\n",
    "#job_state = [\"Washington\"]#,\"New+York\",\"Massachusetts\",\"Ohio\",\"California\"]\n",
    "#https://www.indeed.com/jobs?q=Data+Analyst+python+pandas&l=Washington\n",
    "job_type = \"Data+Analyst\"\n",
    "job_state = \"California\"\n",
    "skills = \"+python+pandas\"\n",
    "job_criteria = job_type\n",
    "url = \"https://www.indeed.com/jobs?q=\" + job_criteria + \"&l=\"+job_state\n",
    "print(url)\n",
    "browser.get(url)\n",
    "time.sleep(1)"
   ]
  },
  {
   "cell_type": "code",
   "execution_count": null,
   "metadata": {
    "scrolled": true
   },
   "outputs": [
    {
     "name": "stdout",
     "output_type": "stream",
     "text": [
      "No Pop-Up Found.\n",
      "Lenght of list is 19\n",
      "HubHaus\n",
      "Next »\n",
      "Clicking Next 1\n",
      "Lenght of list is 36\n",
      "EOS\n",
      "Next »\n",
      "Clicking Next 2\n",
      "No Pop-Up Found.\n",
      "Lenght of list is 52\n",
      "KW Companies, Inc.\n",
      "Next »\n",
      "Clicking Next 3\n",
      "No Pop-Up Found.\n",
      "Lenght of list is 67\n",
      "Blue Owl\n",
      "Next »\n",
      "Clicking Next 4\n",
      "No Pop-Up Found.\n",
      "Lenght of list is 83\n",
      "Skyworks\n",
      "Next »\n",
      "Clicking Next 5\n"
     ]
    }
   ],
   "source": [
    "#Creating a List here\n",
    "job_title = []\n",
    "x = 0\n",
    "scrapping_bool = True\n",
    "while scrapping_bool:\n",
    "    x +=1\n",
    "    # HTML object\n",
    "    html = browser.page_source\n",
    "    # Parse HTML with Beautiful Soup\n",
    "    soup = BeautifulSoup(html, 'html.parser')\n",
    "    # Retrieve all elements that job opening information\n",
    "    job_listing = soup.find_all('div', class_='jobsearch-SerpJobCard')\n",
    "    #print(f\"this is the no of job listing on webpage {x}\")\n",
    "   # print(f\"this is the no of job listing obtained {len(job_title)}\")\n",
    "\n",
    "    for listing in job_listing:\n",
    "        \n",
    "        title_detail = listing.find('div',class_='title')\n",
    "        title = title_detail.a['title']\n",
    "        \n",
    "        company_detail = listing.find('div',class_='sjcl')\n",
    "        company_name = company_detail.span.text.strip()\n",
    "        \n",
    "        handle_loc = listing.find('div',class_='recJobLoc')\n",
    "        location = handle_loc['data-rc-loc'].strip()\n",
    "        job_summary = listing.find('div',class_='summary').text.strip()\n",
    "        #handle_reviews = listing.find('span',class_='slNoUnderline')\n",
    "        #handle_ratings = listing.find('span',class_='ratings')\n",
    "        #if handle_reviews is None:\n",
    "            #continue\n",
    "        #else:\n",
    "            #reviews = handle_reviews.text.strip()\n",
    "            #ratings = handle_ratings['aria-label']\n",
    "            \n",
    "        #Creating a dictionary here\n",
    "        #print(company_name)\n",
    "        dict_jobopening = {\"job_title\": title,\"company_name\": company_name,\"location\":location,\n",
    "                          \"job_summary\": job_summary}#,\"reviews\": reviews,\"ratings\": ratings}\n",
    "        job_title.append(dict_jobopening)\n",
    "        \n",
    "        time.sleep(1)\n",
    "       \n",
    "    try:\n",
    "        #alert = browser.switch_to_alert()\n",
    "        #alert.dismiss()\n",
    "\n",
    "        browser.find_element_by_partial_link_text('No, thanks').click() \n",
    "        time.sleep(1)\n",
    "\n",
    "    except:\n",
    "        print(\"No Pop-Up Found.\")\n",
    "\n",
    "    try:\n",
    "        time.sleep(1)\n",
    "        print(f\"Lenght of list is {len(job_title)}\")\n",
    "        time.sleep(1)\n",
    "        print(company_name)\n",
    "        #browser.find_element_by_xpath(\"/html/body/table[2]/tbody/tr/td/table/tbody/tr/td[2]/div[31]/a[10]/span/span\").click()\n",
    "        nextElem = browser.find_element_by_partial_link_text('Next')\n",
    "        print(nextElem.text)\n",
    "        if(nextElem.text == \"Next »\"):\n",
    "            nextElem.click()\n",
    "        \n",
    "        print(f\"Clicking Next {x}\")\n",
    "        time.sleep(1)\n",
    "    except NoSuchElementException:\n",
    "\n",
    "        print(\"Scraping Complete\")\n",
    "        scrapping_bool = False\n",
    "        break\n",
    "            \n",
    "    \n",
    "browser.close()\n"
   ]
  },
  {
   "cell_type": "code",
   "execution_count": null,
   "metadata": {},
   "outputs": [],
   "source": [
    "job_title_df = pd.DataFrame(job_title)\n",
    "job_title_df.head()\n",
    "\n",
    "\n"
   ]
  },
  {
   "cell_type": "code",
   "execution_count": null,
   "metadata": {},
   "outputs": [],
   "source": [
    "# new data frame with split value columns \n",
    "new = job_title_df[\"location\"].str.split(\",\", n = 1, expand = True) \n",
    "#print(new)  \n",
    "# making separate first name column from new data frame \n",
    "job_title_df[\"City\"]= new[0] \n",
    "  \n",
    "# making separate last name column from new data frame \n",
    "job_title_df[\"State\"]= new[1] \n",
    "  \n",
    "# Dropping old Name columns \n",
    "job_title_df.drop(columns =[\"location\"], inplace = True) "
   ]
  },
  {
   "cell_type": "code",
   "execution_count": null,
   "metadata": {},
   "outputs": [],
   "source": [
    "len(job_title_df)"
   ]
  },
  {
   "cell_type": "code",
   "execution_count": null,
   "metadata": {},
   "outputs": [],
   "source": [
    "outFileName = job_state+\"_output\"+job_type+\".csv\"\n",
    "print(outFileName)\n",
    "job_title_df.to_csv(\"/output/outFileName\")  "
   ]
  }
 ],
 "metadata": {
  "kernelspec": {
   "display_name": "Python 3",
   "language": "python",
   "name": "python3"
  },
  "language_info": {
   "codemirror_mode": {
    "name": "ipython",
    "version": 3
   },
   "file_extension": ".py",
   "mimetype": "text/x-python",
   "name": "python",
   "nbconvert_exporter": "python",
   "pygments_lexer": "ipython3",
   "version": "3.7.3"
  }
 },
 "nbformat": 4,
 "nbformat_minor": 2
}

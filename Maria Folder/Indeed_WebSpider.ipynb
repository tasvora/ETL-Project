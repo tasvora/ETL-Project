{
 "cells": [
  {
   "cell_type": "code",
   "execution_count": 1,
   "metadata": {},
   "outputs": [],
   "source": [
    "from selenium import webdriver\n",
    "from bs4 import BeautifulSoup"
   ]
  },
  {
   "cell_type": "code",
   "execution_count": null,
   "metadata": {},
   "outputs": [],
   "source": [
    "# browser = webdriver.Chrome('windows/chromedriver.exe')\n",
    "# url = 'http://books.toscrape.com/'\n",
    "# browser.get(url)"
   ]
  },
  {
   "cell_type": "code",
   "execution_count": 2,
   "metadata": {},
   "outputs": [
    {
     "name": "stdout",
     "output_type": "stream",
     "text": [
      "https://www.indeed.com/jobs?q=Data+Analyst&l=Ohio/\n"
     ]
    }
   ],
   "source": [
    "browser = webdriver.Chrome('windows/chromedriver')\n",
    "job_type = \"Data+Analyst\"\n",
    "job_state = \"Ohio\"\n",
    "url = \"https://www.indeed.com/jobs?q=\" + job_type + \"&l=\"+job_state+\"/\"\n",
    "print(url)\n",
    "browser.get(url)"
   ]
  },
  {
   "cell_type": "code",
   "execution_count": 3,
   "metadata": {},
   "outputs": [
    {
     "name": "stdout",
     "output_type": "stream",
     "text": [
      "<div class=\"jobsearch-SerpJobCard unifiedRow row result clickcard\" data-ci=\"294721088\" data-empn=\"448222877472724\" data-jk=\"fc7a5703924c4afe\" id=\"pj_fc7a5703924c4afe\">\n",
      " <div class=\"title\">\n",
      "  <a class=\"jobtitle turnstileLink\" data-tn-element=\"jobTitle\" href=\"/pagead/clk?mo=r&amp;ad=-6NYlbfkN0ChJXOUP_srVdt5KddKkZX6ij1WZ9yhePb8fNnFx44hhKZeJzDPZYIlSRytj5xbdcjK7qAi4OIRLH9m2XNnsJN1wkuWa3hMgLDj8oEMEsaPPxYNNXLpCeA0cWlDxKqPYAC24G0UHHUDxNeSggdvyn41Weoa_8xRm1VpK0IhmW3KUrOxZDx5DybZ3u_EMWLDsI1vwAC5tylUbNYE5PBBr1bEUwSLqsX-hCyekYC8uidlBlYSGgdv-D0jUev_-zxM1LBuMYgRiyzzHzfTA3fET1YxeEYEYWIy9PWImbegiLahys7A_4ynh2_K2PDqkzqAVAtX1sWLZQBmSSmtOlH91e46WZkc0a12al1Hrzx-E1L76_I7b0YAizaAhdA6Pn9yRd_qEkJFJTYMokIsbOo2uOHp_eYOBLkWuuzKuZsUZxH1bn6NYPawF6dbJiYWq9Eg55Q=&amp;p=0&amp;fvj=1&amp;vjs=3\" id=\"sja0\" onclick=\"setRefineByCookie([]); sjoc('sja0', 0); convCtr('SJ')\" onmousedown=\"sjomd('sja0'); clk('sja0');\" rel=\"noopener nofollow\" target=\"_blank\" title=\"Data Analyst\">\n",
      "   Data Analyst\n",
      "  </a>\n",
      " </div>\n",
      " <div class=\"sjcl\">\n",
      "  <div>\n",
      "   <span class=\"company\">\n",
      "    <a class=\"turnstileLink\" data-tn-element=\"companyName\" href=\"/cmp/Race-Winning-Brands\" onmousedown=\"this.href = appendParamsOnce(this.href, 'from=SERP&amp;campaignid=serp-linkcompanyname&amp;fromjk=fc7a5703924c4afe&amp;jcid=7808d4a346bea67a')\" rel=\"noopener\" target=\"_blank\">\n",
      "     Race Winning Brands\n",
      "    </a>\n",
      "   </span>\n",
      "   <a class=\"turnstileLink slNoUnderline\" data-tn-element=\"reviewStars\" data-tn-variant=\"cmplinktst2\" href=\"/cmp/Race-Winning-Brands/reviews\" onmousedown=\"this.href = appendParamsOnce(this.href, '?campaignid=cmplinktst2&amp;from=SERP&amp;jt=Data+Analyst&amp;fromjk=fc7a5703924c4afe&amp;jcid=7808d4a346bea67a');\" rel=\"noopener\" target=\"_blank\" title=\"Race Winning Brands reviews\">\n",
      "    <span aria-label=\"2.5 out of 5 star rating\" class=\"ratings\">\n",
      "     <span class=\"rating\" style=\"width:30.0px\">\n",
      "      <!-- -->\n",
      "     </span>\n",
      "    </span>\n",
      "    <span class=\"slNoUnderline\">\n",
      "     17 reviews\n",
      "    </span>\n",
      "   </a>\n",
      "  </div>\n",
      "  <div class=\"recJobLoc\" data-rc-loc=\"Mentor, OH\" id=\"recJobLoc_fc7a5703924c4afe\" style=\"display: none\">\n",
      "  </div>\n",
      "  <div class=\"location accessible-contrast-color-location\">\n",
      "   Mentor, OH\n",
      "  </div>\n",
      " </div>\n",
      " <div class=\"serp-ResponsiveEmployer\">\n",
      "  <div aria-hidden=\"true\" class=\"serp-ResponsiveEmployer-icon\">\n",
      "   <svg height=\"16\" width=\"16\" xmlns=\"http://www.w3.org/2000/svg\" xmlns:xlink=\"http://www.w3.org/1999/xlink\">\n",
      "    <defs>\n",
      "     <path d=\"M0 0h16v16H0z\">\n",
      "     </path>\n",
      "    </defs>\n",
      "    <g fill=\"none\" fill-rule=\"evenodd\">\n",
      "     <mask fill=\"#fff\">\n",
      "      <use xlink:href=\"#a\">\n",
      "      </use>\n",
      "     </mask>\n",
      "     <use fill=\"#FFF\" xlink:href=\"#a\">\n",
      "     </use>\n",
      "     <g mask=\"url(#b)\">\n",
      "      <path d=\"M6.958 13.909L4 14.929l-.596-3.072-2.922-1.12L2 8 .482 5.264l2.922-1.12L4 1.071l2.958 1.02L9.39.121 11 2.804l3.128.054-.49 3.09L16 8l-2.362 2.052.49 3.09-3.128.054-1.61 2.682z\" fill=\"#00B887\">\n",
      "      </path>\n",
      "      <g fill=\"#FFF\">\n",
      "       <path d=\"M4 8.243l1.414-1.415 2.829 2.829-1.415 1.414z\">\n",
      "       </path>\n",
      "       <path d=\"M5.414 9.657l4.95-4.95 1.414 1.414-4.95 4.95z\">\n",
      "       </path>\n",
      "      </g>\n",
      "     </g>\n",
      "    </g>\n",
      "   </svg>\n",
      "  </div>\n",
      "  <div class=\"serp-ResponsiveEmployer-heading\">\n",
      "   Responsive employer\n",
      "  </div>\n",
      " </div>\n",
      " <div class=\"summary\">\n",
      "  Race Winning Brands is a leader in developing high performance racing engine components with record setting brands including Wiseco Pistons, K1 Crankshafts &amp; JE…\n",
      " </div>\n",
      " <div class=\"iaWrapper\">\n",
      "  <div class=\"iaP\">\n",
      "   <span class=\"iaLabel\">\n",
      "    Easily apply\n",
      "   </span>\n",
      "  </div>\n",
      " </div>\n",
      " <div class=\"jobsearch-SerpJobCard-footer\">\n",
      "  <div class=\"jobsearch-SerpJobCard-footerActions\">\n",
      "   <div class=\"result-link-bar-container\">\n",
      "    <div class=\"result-link-bar\">\n",
      "     <span class=\"sponsoredGray\">\n",
      "      Sponsored\n",
      "     </span>\n",
      "     <span class=\"result-link-bar-separator\">\n",
      "      -\n",
      "     </span>\n",
      "     <span class=\"date\">\n",
      "      1 day ago\n",
      "     </span>\n",
      "     <span class=\"tt_set\" id=\"tt_set_0\">\n",
      "      <span class=\"result-link-bar-separator\">\n",
      "       -\n",
      "      </span>\n",
      "      <a class=\"sl resultLink save-job-link\" href=\"#\" id=\"sj_fc7a5703924c4afe\" onclick=\"changeJobState('fc7a5703924c4afe', 'save', 'linkbar', true, ''); return false;\" title=\"Save this job to my.indeed\">\n",
      "       save job\n",
      "      </a>\n",
      "     </span>\n",
      "     <div class=\"edit_note_content\" id=\"editsaved2_fc7a5703924c4afe\" style=\"display:none;\">\n",
      "     </div>\n",
      "     <script>\n",
      "      if (!window['sj_result_fc7a5703924c4afe']) {window['sj_result_fc7a5703924c4afe'] = {};}window['sj_result_fc7a5703924c4afe']['showSource'] = false; window['sj_result_fc7a5703924c4afe']['source'] = \"Indeed\"; window['sj_result_fc7a5703924c4afe']['loggedIn'] = false; window['sj_result_fc7a5703924c4afe']['showMyJobsLinks'] = false;window['sj_result_fc7a5703924c4afe']['undoAction'] = \"unsave\";window['sj_result_fc7a5703924c4afe']['relativeJobAge'] = \"1 day ago\";window['sj_result_fc7a5703924c4afe']['jobKey'] = \"fc7a5703924c4afe\"; window['sj_result_fc7a5703924c4afe']['myIndeedAvailable'] = true; window['sj_result_fc7a5703924c4afe']['showMoreActionsLink'] = window['sj_result_fc7a5703924c4afe']['showMoreActionsLink'] || false; window['sj_result_fc7a5703924c4afe']['resultNumber'] = 0; window['sj_result_fc7a5703924c4afe']['jobStateChangedToSaved'] = false; window['sj_result_fc7a5703924c4afe']['searchState'] = \"q=Data Analyst&amp;l=Ohio%2F\"; window['sj_result_fc7a5703924c4afe']['basicPermaLink'] = \"https://www.indeed.com\"; window['sj_result_fc7a5703924c4afe']['saveJobFailed'] = false; window['sj_result_fc7a5703924c4afe']['removeJobFailed'] = false; window['sj_result_fc7a5703924c4afe']['requestPending'] = false; window['sj_result_fc7a5703924c4afe']['notesEnabled'] = false; window['sj_result_fc7a5703924c4afe']['currentPage'] = \"serp\"; window['sj_result_fc7a5703924c4afe']['sponsored'] = true;window['sj_result_fc7a5703924c4afe']['showSponsor'] = true;window['sj_result_fc7a5703924c4afe']['reportJobButtonEnabled'] = false; window['sj_result_fc7a5703924c4afe']['showMyJobsHired'] = false; window['sj_result_fc7a5703924c4afe']['showSaveForSponsored'] = true; window['sj_result_fc7a5703924c4afe']['showJobAge'] = true; window['sj_result_fc7a5703924c4afe']['showHolisticCard'] = false;\n",
      "     </script>\n",
      "    </div>\n",
      "   </div>\n",
      "  </div>\n",
      " </div>\n",
      " <div class=\"tab-container\">\n",
      "  <div class=\"sign-in-container result-tab\">\n",
      "  </div>\n",
      "  <div class=\"tellafriend-container result-tab email_job_content\">\n",
      "  </div>\n",
      " </div>\n",
      "</div>\n",
      "\n"
     ]
    }
   ],
   "source": [
    "html = browser.page_source\n",
    "soup = BeautifulSoup(html, 'html.parser')\n",
    "job_listing = soup.find('div', class_='jobsearch-SerpJobCard')\n",
    "print(job_listing.prettify())"
   ]
  },
  {
   "cell_type": "code",
   "execution_count": null,
   "metadata": {},
   "outputs": [],
   "source": []
  },
  {
   "cell_type": "code",
   "execution_count": null,
   "metadata": {},
   "outputs": [],
   "source": []
  },
  {
   "cell_type": "code",
   "execution_count": null,
   "metadata": {},
   "outputs": [],
   "source": []
  },
  {
   "cell_type": "code",
   "execution_count": null,
   "metadata": {},
   "outputs": [],
   "source": []
  },
  {
   "cell_type": "code",
   "execution_count": null,
   "metadata": {},
   "outputs": [],
   "source": [
    "browser.close()"
   ]
  }
 ],
 "metadata": {
  "kernelspec": {
   "display_name": "Python 3",
   "language": "python",
   "name": "python3"
  },
  "language_info": {
   "codemirror_mode": {
    "name": "ipython",
    "version": 3
   },
   "file_extension": ".py",
   "mimetype": "text/x-python",
   "name": "python",
   "nbconvert_exporter": "python",
   "pygments_lexer": "ipython3",
   "version": "3.7.3"
  }
 },
 "nbformat": 4,
 "nbformat_minor": 2
}

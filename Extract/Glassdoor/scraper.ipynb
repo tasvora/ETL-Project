{
 "cells": [
  {
   "cell_type": "code",
   "execution_count": 1,
   "metadata": {},
   "outputs": [],
   "source": [
    "# Import Splinter and BeautifulSoup\n",
    "from splinter import Browser\n",
    "from bs4 import BeautifulSoup\n",
    "import pandas as pd\n",
    "from selenium.common.exceptions import NoSuchElementException\n",
    "import time\n"
   ]
  },
  {
   "cell_type": "code",
   "execution_count": 2,
   "metadata": {},
   "outputs": [],
   "source": [
    "def getInput():\n",
    "    stateList=[]\n",
    "    region = input(\"Enter region: \") \n",
    "    states = input(('Enter list of states in the region as a comma separated string, e.g for  Midwest region enter  Ohio,'\n",
    "                   'Indiana, Michigan, Iowa,North Dakota, South Dakota, Nebraska, Kansas, Missouri, Minnesota, Wisconsin, Illinois')) \n",
    "\n",
    "    stateList = states.split(\",\")\n",
    "    return {\"region\": region,\"states\": stateList}"
   ]
  },
  {
   "cell_type": "code",
   "execution_count": 3,
   "metadata": {},
   "outputs": [],
   "source": [
    "def visitState(statename):\n",
    "    browser.is_element_present_by_id(\"sc.keyword\", wait_time=1)\n",
    "    browser.find_by_id('sc.keyword').fill('Data Scientist')\n",
    "    browser.find_by_id('sc.location').fill(statename)\n",
    "    browser.find_by_id('HeroSearchButton').click()"
   ]
  },
  {
   "cell_type": "code",
   "execution_count": 4,
   "metadata": {},
   "outputs": [],
   "source": [
    "def addAgeFilter():\n",
    "    while False:\n",
    "        browser.is_element_present_by_id(\"filter_fromAge\", wait_time=2)\n",
    "    div = browser.find_by_id(\"filter_fromAge\")\n",
    "    div.click()\n",
    "    while False:\n",
    "        browser.is_element_present_by_id(\"PrimaryDropdown\", wait_time=2)\n",
    "    divFilter = browser.find_by_id(\"PrimaryDropdown\")\n",
    "    divFilter.find_by_text('Last Month').click()"
   ]
  },
  {
   "cell_type": "code",
   "execution_count": 5,
   "metadata": {
    "scrolled": true
   },
   "outputs": [],
   "source": [
    "def searchJobs():\n",
    "    # instantiate the list\n",
    "    jobs = []\n",
    "\n",
    "    #complete the notebook run no matter what\n",
    "    try:\n",
    "        while True:\n",
    "\n",
    "            #trigger popup and close it\n",
    "            try:\n",
    "                trigger_and_close_popup(browser)\n",
    "            except Exception as e:\n",
    "                pass\n",
    "\n",
    "            #close any possible popups with a Close button\n",
    "            try:\n",
    "                browser.driver.find_element_by_partial_link_text('Close').click()\n",
    "                time.sleep(1)\n",
    "            except Exception as e:\n",
    "                pass\n",
    "\n",
    "            #more popups\n",
    "            try:\n",
    "                browser.driver.find_element_by_class_name('ModalStyle__xBtn___29PT9').click()\n",
    "                time.sleep(1)\n",
    "            except Exception as e:\n",
    "                pass\n",
    "\n",
    "            html = browser.driver.page_source\n",
    "            soup = BeautifulSoup(html, 'html.parser')\n",
    "\n",
    "\n",
    "            article = soup.find('article', id='MainCol').ul\n",
    "            job_list = article.find_all('li')\n",
    "\n",
    "            for job  in job_list:\n",
    "                #title\n",
    "                title = job['data-normalize-job-title'].strip()\n",
    "                #job location\n",
    "                location  = job['data-job-loc'].strip()\n",
    "                #employer\n",
    "                employer = job.find('div', class_='jobEmpolyerName').text\n",
    "\n",
    "                #job details\n",
    "                dataId = job['data-id']\n",
    "                Id = 'JobDesc' + dataId\n",
    "                xpath = f\"//li[@data-id='{dataId}']\"\n",
    "                try:\n",
    "                    soup = soup_for_click(xpath)\n",
    "                    job_desc = soup.find('div', id = Id, class_=\"jobDesc\").text\n",
    "                except Exception as e:\n",
    "                    job_desc = \"\" \n",
    "\n",
    "                #review count\n",
    "                xpath= '//*[@id=\"Details\"]/div[1]/div[1]/div/div/div[5]'\n",
    "                try:\n",
    "                    soup = soup_for_click(xpath)\n",
    "                    reviews= soup.select(\"li.empReview\")\n",
    "                    review_count = len(reviews)\n",
    "                except Exception as e:\n",
    "                    review_count = 0\n",
    "\n",
    "                #create the job dictoanry object and add it to the list\n",
    "                job_dict = {\"position\": title,\"company\": employer, \"description\": job_desc, \"reviews\": review_count, \\\n",
    "                            \"location\":location}\n",
    "\n",
    "                jobs.append(job_dict)\n",
    "\n",
    "            try:\n",
    "                url=browser.url\n",
    "                browser.find_by_css('li.next').click()\n",
    "                time.sleep(1)\n",
    "                if (url == browser.url):\n",
    "                        break\n",
    "            except NoSuchElementException:\n",
    "                print(\"No such element exception.\")\n",
    "                break\n",
    "\n",
    "        print(\"Scraping complete.\")\n",
    "\n",
    "    # exit gracefully, close the browser, log the exception \n",
    "    except Exception as e:\n",
    "        print(\"Scraping interrupted.\")\n",
    "    return jobs"
   ]
  },
  {
   "cell_type": "code",
   "execution_count": 6,
   "metadata": {},
   "outputs": [],
   "source": [
    "def soup_for_click(xpath):\n",
    "    browser.driver.find_element_by_xpath(xpath).click()\n",
    "    time.sleep(1)\n",
    "    html = browser.driver.page_source\n",
    "    return BeautifulSoup(html, 'html.parser')"
   ]
  },
  {
   "cell_type": "code",
   "execution_count": 7,
   "metadata": {},
   "outputs": [],
   "source": [
    "def trigger_and_close_popup(browser):\n",
    "    browser.is_element_present_by_id(\"MainCol\", wait_time=1)\n",
    "    xpath= '//*[@id=\"MainCol\"]/div/ul/li[1]'\n",
    "    browser.driver.find_element_by_xpath(xpath).click()\n",
    "    time.sleep(1)\n",
    "\n",
    "    xpath ='//*[@id=\"JAModal\"]/div/div/div[2]/div/div[1]/div/span'\n",
    "    browser.driver.find_element_by_xpath(xpath).click()\n",
    "    time.sleep(1)\n"
   ]
  },
  {
   "cell_type": "code",
   "execution_count": 8,
   "metadata": {},
   "outputs": [
    {
     "name": "stdout",
     "output_type": "stream",
     "text": [
      "Enter region: West\n",
      "Enter list of states in the region as a comma separated string, e.g for  Midwest region enter  Ohio,Indiana, Michigan, Iowa,North Dakota, South Dakota, Nebraska, Kansas, Missouri, Minnesota, Wisconsin, IllinoisCalifornia,Nevada,Utah,Montana,Colorado,Wyoming,Idaho,Oregon,Washington State\n"
     ]
    },
    {
     "data": {
      "text/plain": [
       "{'region': 'West',\n",
       " 'states': ['California',\n",
       "  'Nevada',\n",
       "  'Utah',\n",
       "  'Montana',\n",
       "  'Colorado',\n",
       "  'Wyoming',\n",
       "  'Idaho',\n",
       "  'Oregon',\n",
       "  'Washington State']}"
      ]
     },
     "execution_count": 8,
     "metadata": {},
     "output_type": "execute_result"
    }
   ],
   "source": [
    "# region_states = getInput()\n",
    "# region_states\n"
   ]
  },
  {
   "cell_type": "code",
   "execution_count": 9,
   "metadata": {},
   "outputs": [],
   "source": [
    "# region = region_states['region']\n",
    "# stateList = region_states['states']\n",
    "\n",
    "region='set your region here once'"
   ]
  },
  {
   "cell_type": "code",
   "execution_count": 60,
   "metadata": {},
   "outputs": [],
   "source": [
    "# exe_path = 'c:/Users/indup/bin/chromedriver'\n",
    "exe_path='set your chrome path here'\n",
    "executable_path = {'executable_path': exe_path }\n",
    "browser = Browser('chrome', **executable_path)\n"
   ]
  },
  {
   "cell_type": "code",
   "execution_count": 62,
   "metadata": {},
   "outputs": [],
   "source": [
    "#spider for url\n",
    "url=\"https://www.glassdoor.com\"\n",
    "browser.visit(url)"
   ]
  },
  {
   "cell_type": "code",
   "execution_count": 47,
   "metadata": {},
   "outputs": [],
   "source": [
    "# select google authorization\n",
    "while False:\n",
    "    browser.is_element_present_by_css(\"button.google\")\n",
    "browser.find_by_css(\"button.google\").click()"
   ]
  },
  {
   "cell_type": "code",
   "execution_count": 48,
   "metadata": {},
   "outputs": [],
   "source": [
    "# switch to oauth window\n",
    "window1 = browser.driver.window_handles[1]\n",
    "browser.driver.switch_to.window(window1)\n",
    "username = 'set your gmail id here'\n",
    "browser.find_by_id(\"identifierId\").fill(username)\n",
    "browser.find_by_id(\"identifierNext\").click()\n"
   ]
  },
  {
   "cell_type": "code",
   "execution_count": 49,
   "metadata": {},
   "outputs": [],
   "source": [
    "while False:\n",
    "    browser.is_element_present_by_name(\"password\",wait_time=4)\n",
    "pwd= 'your password here'\n",
    "browser.find_by_name(\"password\").fill(pwd)\n",
    "browser.find_by_id(\"passwordNext\").click()\n"
   ]
  },
  {
   "cell_type": "code",
   "execution_count": 50,
   "metadata": {},
   "outputs": [],
   "source": [
    "window1 = browser.driver.window_handles[0]\n",
    "browser.driver.switch_to.window(window1)"
   ]
  },
  {
   "cell_type": "code",
   "execution_count": 51,
   "metadata": {},
   "outputs": [],
   "source": [
    "try:\n",
    "    browser.find_by_id(\"a\").click()\n",
    "except:\n",
    "    pass"
   ]
  },
  {
   "cell_type": "code",
   "execution_count": 59,
   "metadata": {},
   "outputs": [
    {
     "name": "stdout",
     "output_type": "stream",
     "text": [
      "Scraping complete.\n"
     ]
    }
   ],
   "source": [
    "# while len(stateList) > 0 :\n",
    "#     stateName = stateList.pop().strip().lower()\n",
    "# stateName = 'Oregon'\n",
    "stateName='set your state here everytime'\n",
    "visitState(stateName)\n",
    "addAgeFilter()\n",
    "jobs = searchJobs()\n",
    "glassdoor_df = pd.DataFrame(jobs)\n",
    "glassdoor_df[\"Region\"] = region\n",
    "glassdoor_df.to_excel(f\"../../Transform/Resources/Glassdoor/{stateName}_glassdoor.xlsx\", index=False)\n"
   ]
  }
 ],
 "metadata": {
  "kernelspec": {
   "display_name": "Python 3",
   "language": "python",
   "name": "python3"
  },
  "language_info": {
   "codemirror_mode": {
    "name": "ipython",
    "version": 3
   },
   "file_extension": ".py",
   "mimetype": "text/x-python",
   "name": "python",
   "nbconvert_exporter": "python",
   "pygments_lexer": "ipython3",
   "version": "3.7.3"
  }
 },
 "nbformat": 4,
 "nbformat_minor": 2
}
